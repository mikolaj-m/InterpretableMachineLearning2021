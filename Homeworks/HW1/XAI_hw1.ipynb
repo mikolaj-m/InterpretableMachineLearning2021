{
 "cells": [
  {
   "cell_type": "markdown",
   "id": "surprising-reserve",
   "metadata": {},
   "source": [
    "## Mikołaj Murasik - klasyfikacja grzybów na jadalne i trujące"
   ]
  },
  {
   "cell_type": "markdown",
   "id": "secure-underground",
   "metadata": {},
   "source": [
    "### Opis dostępnych danych"
   ]
  },
  {
   "cell_type": "markdown",
   "id": "waiting-subsection",
   "metadata": {},
   "source": [
    "Opracowujemy zbiór danych klasyfikujący grzyby na jadalne i niejadalne.\n",
    "\n",
    "Najpierw chcemy zbadać, jak ten zbiór wygląda: jego wielkość, liczbę i charakter klas, ilość brakujących danych."
   ]
  },
  {
   "cell_type": "code",
   "execution_count": 208,
   "id": "indirect-council",
   "metadata": {},
   "outputs": [],
   "source": [
    "import pandas as pd\n",
    "\n",
    "dtf = pd.read_csv('dataset_24_mushroom.csv')"
   ]
  },
  {
   "cell_type": "markdown",
   "id": "associate-category",
   "metadata": {},
   "source": [
    "Wymiary tabeli:"
   ]
  },
  {
   "cell_type": "code",
   "execution_count": 209,
   "id": "outdoor-recipient",
   "metadata": {},
   "outputs": [
    {
     "data": {
      "text/plain": [
       "(8124, 23)"
      ]
     },
     "execution_count": 209,
     "metadata": {},
     "output_type": "execute_result"
    }
   ],
   "source": [
    "dtf.shape"
   ]
  },
  {
   "cell_type": "code",
   "execution_count": 210,
   "id": "western-october",
   "metadata": {
    "scrolled": false
   },
   "outputs": [
    {
     "data": {
      "text/html": [
       "<div>\n",
       "<style scoped>\n",
       "    .dataframe tbody tr th:only-of-type {\n",
       "        vertical-align: middle;\n",
       "    }\n",
       "\n",
       "    .dataframe tbody tr th {\n",
       "        vertical-align: top;\n",
       "    }\n",
       "\n",
       "    .dataframe thead th {\n",
       "        text-align: right;\n",
       "    }\n",
       "</style>\n",
       "<table border=\"1\" class=\"dataframe\">\n",
       "  <thead>\n",
       "    <tr style=\"text-align: right;\">\n",
       "      <th></th>\n",
       "      <th>cap-shape</th>\n",
       "      <th>cap-surface</th>\n",
       "      <th>cap-color</th>\n",
       "      <th>bruises%3F</th>\n",
       "      <th>odor</th>\n",
       "      <th>gill-attachment</th>\n",
       "      <th>gill-spacing</th>\n",
       "      <th>gill-size</th>\n",
       "      <th>gill-color</th>\n",
       "      <th>stalk-shape</th>\n",
       "      <th>...</th>\n",
       "      <th>stalk-color-above-ring</th>\n",
       "      <th>stalk-color-below-ring</th>\n",
       "      <th>veil-type</th>\n",
       "      <th>veil-color</th>\n",
       "      <th>ring-number</th>\n",
       "      <th>ring-type</th>\n",
       "      <th>spore-print-color</th>\n",
       "      <th>population</th>\n",
       "      <th>habitat</th>\n",
       "      <th>class</th>\n",
       "    </tr>\n",
       "  </thead>\n",
       "  <tbody>\n",
       "    <tr>\n",
       "      <th>0</th>\n",
       "      <td>'x'</td>\n",
       "      <td>'s'</td>\n",
       "      <td>'n'</td>\n",
       "      <td>'t'</td>\n",
       "      <td>'p'</td>\n",
       "      <td>'f'</td>\n",
       "      <td>'c'</td>\n",
       "      <td>'n'</td>\n",
       "      <td>'k'</td>\n",
       "      <td>'e'</td>\n",
       "      <td>...</td>\n",
       "      <td>'w'</td>\n",
       "      <td>'w'</td>\n",
       "      <td>'p'</td>\n",
       "      <td>'w'</td>\n",
       "      <td>'o'</td>\n",
       "      <td>'p'</td>\n",
       "      <td>'k'</td>\n",
       "      <td>'s'</td>\n",
       "      <td>'u'</td>\n",
       "      <td>'p'</td>\n",
       "    </tr>\n",
       "    <tr>\n",
       "      <th>1</th>\n",
       "      <td>'x'</td>\n",
       "      <td>'s'</td>\n",
       "      <td>'y'</td>\n",
       "      <td>'t'</td>\n",
       "      <td>'a'</td>\n",
       "      <td>'f'</td>\n",
       "      <td>'c'</td>\n",
       "      <td>'b'</td>\n",
       "      <td>'k'</td>\n",
       "      <td>'e'</td>\n",
       "      <td>...</td>\n",
       "      <td>'w'</td>\n",
       "      <td>'w'</td>\n",
       "      <td>'p'</td>\n",
       "      <td>'w'</td>\n",
       "      <td>'o'</td>\n",
       "      <td>'p'</td>\n",
       "      <td>'n'</td>\n",
       "      <td>'n'</td>\n",
       "      <td>'g'</td>\n",
       "      <td>'e'</td>\n",
       "    </tr>\n",
       "    <tr>\n",
       "      <th>2</th>\n",
       "      <td>'b'</td>\n",
       "      <td>'s'</td>\n",
       "      <td>'w'</td>\n",
       "      <td>'t'</td>\n",
       "      <td>'l'</td>\n",
       "      <td>'f'</td>\n",
       "      <td>'c'</td>\n",
       "      <td>'b'</td>\n",
       "      <td>'n'</td>\n",
       "      <td>'e'</td>\n",
       "      <td>...</td>\n",
       "      <td>'w'</td>\n",
       "      <td>'w'</td>\n",
       "      <td>'p'</td>\n",
       "      <td>'w'</td>\n",
       "      <td>'o'</td>\n",
       "      <td>'p'</td>\n",
       "      <td>'n'</td>\n",
       "      <td>'n'</td>\n",
       "      <td>'m'</td>\n",
       "      <td>'e'</td>\n",
       "    </tr>\n",
       "    <tr>\n",
       "      <th>3</th>\n",
       "      <td>'x'</td>\n",
       "      <td>'y'</td>\n",
       "      <td>'w'</td>\n",
       "      <td>'t'</td>\n",
       "      <td>'p'</td>\n",
       "      <td>'f'</td>\n",
       "      <td>'c'</td>\n",
       "      <td>'n'</td>\n",
       "      <td>'n'</td>\n",
       "      <td>'e'</td>\n",
       "      <td>...</td>\n",
       "      <td>'w'</td>\n",
       "      <td>'w'</td>\n",
       "      <td>'p'</td>\n",
       "      <td>'w'</td>\n",
       "      <td>'o'</td>\n",
       "      <td>'p'</td>\n",
       "      <td>'k'</td>\n",
       "      <td>'s'</td>\n",
       "      <td>'u'</td>\n",
       "      <td>'p'</td>\n",
       "    </tr>\n",
       "    <tr>\n",
       "      <th>4</th>\n",
       "      <td>'x'</td>\n",
       "      <td>'s'</td>\n",
       "      <td>'g'</td>\n",
       "      <td>'f'</td>\n",
       "      <td>'n'</td>\n",
       "      <td>'f'</td>\n",
       "      <td>'w'</td>\n",
       "      <td>'b'</td>\n",
       "      <td>'k'</td>\n",
       "      <td>'t'</td>\n",
       "      <td>...</td>\n",
       "      <td>'w'</td>\n",
       "      <td>'w'</td>\n",
       "      <td>'p'</td>\n",
       "      <td>'w'</td>\n",
       "      <td>'o'</td>\n",
       "      <td>'e'</td>\n",
       "      <td>'n'</td>\n",
       "      <td>'a'</td>\n",
       "      <td>'g'</td>\n",
       "      <td>'e'</td>\n",
       "    </tr>\n",
       "  </tbody>\n",
       "</table>\n",
       "<p>5 rows × 23 columns</p>\n",
       "</div>"
      ],
      "text/plain": [
       "  cap-shape cap-surface cap-color bruises%3F odor gill-attachment  \\\n",
       "0       'x'         's'       'n'        't'  'p'             'f'   \n",
       "1       'x'         's'       'y'        't'  'a'             'f'   \n",
       "2       'b'         's'       'w'        't'  'l'             'f'   \n",
       "3       'x'         'y'       'w'        't'  'p'             'f'   \n",
       "4       'x'         's'       'g'        'f'  'n'             'f'   \n",
       "\n",
       "  gill-spacing gill-size gill-color stalk-shape  ... stalk-color-above-ring  \\\n",
       "0          'c'       'n'        'k'         'e'  ...                    'w'   \n",
       "1          'c'       'b'        'k'         'e'  ...                    'w'   \n",
       "2          'c'       'b'        'n'         'e'  ...                    'w'   \n",
       "3          'c'       'n'        'n'         'e'  ...                    'w'   \n",
       "4          'w'       'b'        'k'         't'  ...                    'w'   \n",
       "\n",
       "  stalk-color-below-ring veil-type veil-color ring-number ring-type  \\\n",
       "0                    'w'       'p'        'w'         'o'       'p'   \n",
       "1                    'w'       'p'        'w'         'o'       'p'   \n",
       "2                    'w'       'p'        'w'         'o'       'p'   \n",
       "3                    'w'       'p'        'w'         'o'       'p'   \n",
       "4                    'w'       'p'        'w'         'o'       'e'   \n",
       "\n",
       "  spore-print-color population habitat class  \n",
       "0               'k'        's'     'u'   'p'  \n",
       "1               'n'        'n'     'g'   'e'  \n",
       "2               'n'        'n'     'm'   'e'  \n",
       "3               'k'        's'     'u'   'p'  \n",
       "4               'n'        'a'     'g'   'e'  \n",
       "\n",
       "[5 rows x 23 columns]"
      ]
     },
     "execution_count": 210,
     "metadata": {},
     "output_type": "execute_result"
    }
   ],
   "source": [
    "dtf.head()"
   ]
  },
  {
   "cell_type": "markdown",
   "id": "mathematical-waste",
   "metadata": {},
   "source": [
    "Czy dane są: ciągłe, dyskretne czy kategoryczne?"
   ]
  },
  {
   "cell_type": "code",
   "execution_count": 211,
   "id": "wrapped-effect",
   "metadata": {},
   "outputs": [
    {
     "name": "stdout",
     "output_type": "stream",
     "text": [
      "Nazwa kolumny\ttyp danych\n",
      "cap-shape\tcategorical\n",
      "cap-surface\tcategorical\n",
      "cap-color\tcategorical\n",
      "bruises%3F\tcategorical\n",
      "odor\tcategorical\n",
      "gill-attachment\tcategorical\n",
      "gill-spacing\tcategorical\n",
      "gill-size\tcategorical\n",
      "gill-color\tcategorical\n",
      "stalk-shape\tcategorical\n",
      "stalk-root\tcategorical\n",
      "stalk-surface-above-ring\tcategorical\n",
      "stalk-surface-below-ring\tcategorical\n",
      "stalk-color-above-ring\tcategorical\n",
      "stalk-color-below-ring\tcategorical\n",
      "veil-type\tcategorical\n",
      "veil-color\tcategorical\n",
      "ring-number\tcategorical\n",
      "ring-type\tcategorical\n",
      "spore-print-color\tcategorical\n",
      "population\tcategorical\n",
      "habitat\tcategorical\n",
      "class\tcategorical\n"
     ]
    }
   ],
   "source": [
    "print(\"Nazwa kolumny\\ttyp danych\")\n",
    "for c in dtf.columns:\n",
    "    if (dtf[c].nunique() < 15):\n",
    "        res = \"categorical\"\n",
    "    else:\n",
    "        res = \"numeric\"    \n",
    "    print(c, \"\\t\", res, sep='')"
   ]
  },
  {
   "cell_type": "markdown",
   "id": "dimensional-thought",
   "metadata": {},
   "source": [
    "Widzimy więc, że wszystkie dane są podzielone na klasy; nie ma danych numerycznych. W takim razie chcielibyśmy wiedzieć, ile jest możliwych klas każdego typu danych oraz czy nie brakuje żadnych informacji."
   ]
  },
  {
   "cell_type": "code",
   "execution_count": 212,
   "id": "arabic-profession",
   "metadata": {},
   "outputs": [
    {
     "name": "stdout",
     "output_type": "stream",
     "text": [
      "Nazwa kolumny\tLiczba klas\tLiczba brakujących danych\n",
      "cap-shape \t 6 \t None\n",
      "cap-surface \t 4 \t None\n",
      "cap-color \t 10 \t None\n",
      "bruises%3F \t 2 \t None\n",
      "odor \t 9 \t None\n",
      "gill-attachment \t 2 \t None\n",
      "gill-spacing \t 2 \t None\n",
      "gill-size \t 2 \t None\n",
      "gill-color \t 12 \t None\n",
      "stalk-shape \t 2 \t None\n",
      "stalk-root \t 5 \t 2480\n",
      "stalk-surface-above-ring \t 4 \t None\n",
      "stalk-surface-below-ring \t 4 \t None\n",
      "stalk-color-above-ring \t 9 \t None\n",
      "stalk-color-below-ring \t 9 \t None\n",
      "veil-type \t 1 \t None\n",
      "veil-color \t 4 \t None\n",
      "ring-number \t 3 \t None\n",
      "ring-type \t 5 \t None\n",
      "spore-print-color \t 9 \t None\n",
      "population \t 6 \t None\n",
      "habitat \t 7 \t None\n",
      "class \t 2 \t None\n"
     ]
    }
   ],
   "source": [
    "print(\"Nazwa kolumny\\tLiczba klas\\tLiczba brakujących danych\")\n",
    "for c in dtf.columns:\n",
    "    print(c, \"\\t\", dtf[c].nunique(), \"\\t\", dtf[c].value_counts().get(\"?\"))"
   ]
  },
  {
   "cell_type": "markdown",
   "id": "proof-process",
   "metadata": {},
   "source": [
    "Jak widać, brak danych występuje tylko w jednej kolumnie: <samp>stalk-root</samp>. Brakuje tam danych w 2480 wierszach, czyli w blisko 30%."
   ]
  },
  {
   "cell_type": "markdown",
   "id": "consistent-coverage",
   "metadata": {},
   "source": [
    "<b>Podsumowując</b>, dane składają się zatem z:\n",
    "<ul>\n",
    "    <li>8124 wierszy, z których każdy opisuje oddzielną obserwację</li>\n",
    "    <li>22 klas (+1 opisująca wynik), każda o wartościach kategorycznych</li>\n",
    "    <li>poza klasą <samp>stalk-root</samp> wszędzie dostępne są pełne dane\n",
    "</ul>"
   ]
  },
  {
   "cell_type": "markdown",
   "id": "consistent-shoot",
   "metadata": {},
   "source": [
    "Chcielibyśmy jeszcze sprawdzić, czy danych nie mamy nadreprezentacji któregoś rodzaju grzybów:"
   ]
  },
  {
   "cell_type": "code",
   "execution_count": 213,
   "id": "viral-rolling",
   "metadata": {},
   "outputs": [
    {
     "data": {
      "text/plain": [
       "<function matplotlib.pyplot.show(close=None, block=None)>"
      ]
     },
     "execution_count": 213,
     "metadata": {},
     "output_type": "execute_result"
    },
    {
     "data": {
      "image/png": "[encoded data removed]",
      "text/plain": [
       "<Figure size 432x288 with 1 Axes>"
      ]
     },
     "metadata": {
      "needs_background": "light"
     },
     "output_type": "display_data"
    }
   ],
   "source": [
    "import matplotlib.pyplot as plt\n",
    "\n",
    "ax = dtf[\"class\"].value_counts().sort_values().plot(kind=\"barh\")\n",
    "totals = []\n",
    "for i in ax.patches:\n",
    "    totals.append(i.get_width())\n",
    "total = sum(totals)\n",
    "for i in ax.patches:\n",
    "    ax.text(i.get_width() + .3, i.get_y() + .2, str(round((i.get_width() / total) * 100, 2)) + '%', fontsize=10, color='black')\n",
    "ax.grid(axis=\"x\")\n",
    "plt.suptitle('jadalny (\"e\") czy trujący (\"p\")?', fontsize=20)\n",
    "plt.show"
   ]
  },
  {
   "cell_type": "markdown",
   "id": "collected-snowboard",
   "metadata": {},
   "source": [
    "Widać, że dane są dobrze podzielone, więc powinniśmy być w stanie dobrze nauczyć klasyfikator rozpoznawania obu rodzajów grzybów."
   ]
  },
  {
   "cell_type": "markdown",
   "id": "central-director",
   "metadata": {},
   "source": [
    "### Modyfikacja danych"
   ]
  },
  {
   "cell_type": "markdown",
   "id": "representative-cassette",
   "metadata": {},
   "source": [
    "Ponieważ dane są dobrze podzielone oraz wszystkie są kategoryczne, to pozostaje już tylko wybrać klasyfikator."
   ]
  },
  {
   "cell_type": "markdown",
   "id": "hazardous-preparation",
   "metadata": {},
   "source": [
    "Najpierw dane w postaci liter zastępujemy wektorami binarnymi. Klasa <em>class</em> (oznaczająca, czy dany grzyb jest jadalny) zostanie zastąpiona dwoma komplementarnymi klasami, więc jedną z nich usuwamy."
   ]
  },
  {
   "cell_type": "code",
   "execution_count": 214,
   "id": "banner-papua",
   "metadata": {},
   "outputs": [
    {
     "data": {
      "text/html": [
       "<div>\n",
       "<style scoped>\n",
       "    .dataframe tbody tr th:only-of-type {\n",
       "        vertical-align: middle;\n",
       "    }\n",
       "\n",
       "    .dataframe tbody tr th {\n",
       "        vertical-align: top;\n",
       "    }\n",
       "\n",
       "    .dataframe thead th {\n",
       "        text-align: right;\n",
       "    }\n",
       "</style>\n",
       "<table border=\"1\" class=\"dataframe\">\n",
       "  <thead>\n",
       "    <tr style=\"text-align: right;\">\n",
       "      <th></th>\n",
       "      <th>cap-shape_'b'</th>\n",
       "      <th>cap-shape_'c'</th>\n",
       "      <th>cap-shape_'f'</th>\n",
       "      <th>cap-shape_'k'</th>\n",
       "      <th>cap-shape_'s'</th>\n",
       "      <th>cap-shape_'x'</th>\n",
       "      <th>cap-surface_'f'</th>\n",
       "      <th>cap-surface_'g'</th>\n",
       "      <th>cap-surface_'s'</th>\n",
       "      <th>cap-surface_'y'</th>\n",
       "      <th>...</th>\n",
       "      <th>population_'v'</th>\n",
       "      <th>population_'y'</th>\n",
       "      <th>habitat_'d'</th>\n",
       "      <th>habitat_'g'</th>\n",
       "      <th>habitat_'l'</th>\n",
       "      <th>habitat_'m'</th>\n",
       "      <th>habitat_'p'</th>\n",
       "      <th>habitat_'u'</th>\n",
       "      <th>habitat_'w'</th>\n",
       "      <th>edible</th>\n",
       "    </tr>\n",
       "  </thead>\n",
       "  <tbody>\n",
       "    <tr>\n",
       "      <th>0</th>\n",
       "      <td>0</td>\n",
       "      <td>0</td>\n",
       "      <td>0</td>\n",
       "      <td>0</td>\n",
       "      <td>0</td>\n",
       "      <td>1</td>\n",
       "      <td>0</td>\n",
       "      <td>0</td>\n",
       "      <td>1</td>\n",
       "      <td>0</td>\n",
       "      <td>...</td>\n",
       "      <td>0</td>\n",
       "      <td>0</td>\n",
       "      <td>0</td>\n",
       "      <td>0</td>\n",
       "      <td>0</td>\n",
       "      <td>0</td>\n",
       "      <td>0</td>\n",
       "      <td>1</td>\n",
       "      <td>0</td>\n",
       "      <td>0</td>\n",
       "    </tr>\n",
       "    <tr>\n",
       "      <th>1</th>\n",
       "      <td>0</td>\n",
       "      <td>0</td>\n",
       "      <td>0</td>\n",
       "      <td>0</td>\n",
       "      <td>0</td>\n",
       "      <td>1</td>\n",
       "      <td>0</td>\n",
       "      <td>0</td>\n",
       "      <td>1</td>\n",
       "      <td>0</td>\n",
       "      <td>...</td>\n",
       "      <td>0</td>\n",
       "      <td>0</td>\n",
       "      <td>0</td>\n",
       "      <td>1</td>\n",
       "      <td>0</td>\n",
       "      <td>0</td>\n",
       "      <td>0</td>\n",
       "      <td>0</td>\n",
       "      <td>0</td>\n",
       "      <td>1</td>\n",
       "    </tr>\n",
       "    <tr>\n",
       "      <th>2</th>\n",
       "      <td>1</td>\n",
       "      <td>0</td>\n",
       "      <td>0</td>\n",
       "      <td>0</td>\n",
       "      <td>0</td>\n",
       "      <td>0</td>\n",
       "      <td>0</td>\n",
       "      <td>0</td>\n",
       "      <td>1</td>\n",
       "      <td>0</td>\n",
       "      <td>...</td>\n",
       "      <td>0</td>\n",
       "      <td>0</td>\n",
       "      <td>0</td>\n",
       "      <td>0</td>\n",
       "      <td>0</td>\n",
       "      <td>1</td>\n",
       "      <td>0</td>\n",
       "      <td>0</td>\n",
       "      <td>0</td>\n",
       "      <td>1</td>\n",
       "    </tr>\n",
       "    <tr>\n",
       "      <th>3</th>\n",
       "      <td>0</td>\n",
       "      <td>0</td>\n",
       "      <td>0</td>\n",
       "      <td>0</td>\n",
       "      <td>0</td>\n",
       "      <td>1</td>\n",
       "      <td>0</td>\n",
       "      <td>0</td>\n",
       "      <td>0</td>\n",
       "      <td>1</td>\n",
       "      <td>...</td>\n",
       "      <td>0</td>\n",
       "      <td>0</td>\n",
       "      <td>0</td>\n",
       "      <td>0</td>\n",
       "      <td>0</td>\n",
       "      <td>0</td>\n",
       "      <td>0</td>\n",
       "      <td>1</td>\n",
       "      <td>0</td>\n",
       "      <td>0</td>\n",
       "    </tr>\n",
       "    <tr>\n",
       "      <th>4</th>\n",
       "      <td>0</td>\n",
       "      <td>0</td>\n",
       "      <td>0</td>\n",
       "      <td>0</td>\n",
       "      <td>0</td>\n",
       "      <td>1</td>\n",
       "      <td>0</td>\n",
       "      <td>0</td>\n",
       "      <td>1</td>\n",
       "      <td>0</td>\n",
       "      <td>...</td>\n",
       "      <td>0</td>\n",
       "      <td>0</td>\n",
       "      <td>0</td>\n",
       "      <td>1</td>\n",
       "      <td>0</td>\n",
       "      <td>0</td>\n",
       "      <td>0</td>\n",
       "      <td>0</td>\n",
       "      <td>0</td>\n",
       "      <td>1</td>\n",
       "    </tr>\n",
       "    <tr>\n",
       "      <th>...</th>\n",
       "      <td>...</td>\n",
       "      <td>...</td>\n",
       "      <td>...</td>\n",
       "      <td>...</td>\n",
       "      <td>...</td>\n",
       "      <td>...</td>\n",
       "      <td>...</td>\n",
       "      <td>...</td>\n",
       "      <td>...</td>\n",
       "      <td>...</td>\n",
       "      <td>...</td>\n",
       "      <td>...</td>\n",
       "      <td>...</td>\n",
       "      <td>...</td>\n",
       "      <td>...</td>\n",
       "      <td>...</td>\n",
       "      <td>...</td>\n",
       "      <td>...</td>\n",
       "      <td>...</td>\n",
       "      <td>...</td>\n",
       "      <td>...</td>\n",
       "    </tr>\n",
       "    <tr>\n",
       "      <th>8119</th>\n",
       "      <td>0</td>\n",
       "      <td>0</td>\n",
       "      <td>0</td>\n",
       "      <td>1</td>\n",
       "      <td>0</td>\n",
       "      <td>0</td>\n",
       "      <td>0</td>\n",
       "      <td>0</td>\n",
       "      <td>1</td>\n",
       "      <td>0</td>\n",
       "      <td>...</td>\n",
       "      <td>0</td>\n",
       "      <td>0</td>\n",
       "      <td>0</td>\n",
       "      <td>0</td>\n",
       "      <td>1</td>\n",
       "      <td>0</td>\n",
       "      <td>0</td>\n",
       "      <td>0</td>\n",
       "      <td>0</td>\n",
       "      <td>1</td>\n",
       "    </tr>\n",
       "    <tr>\n",
       "      <th>8120</th>\n",
       "      <td>0</td>\n",
       "      <td>0</td>\n",
       "      <td>0</td>\n",
       "      <td>0</td>\n",
       "      <td>0</td>\n",
       "      <td>1</td>\n",
       "      <td>0</td>\n",
       "      <td>0</td>\n",
       "      <td>1</td>\n",
       "      <td>0</td>\n",
       "      <td>...</td>\n",
       "      <td>1</td>\n",
       "      <td>0</td>\n",
       "      <td>0</td>\n",
       "      <td>0</td>\n",
       "      <td>1</td>\n",
       "      <td>0</td>\n",
       "      <td>0</td>\n",
       "      <td>0</td>\n",
       "      <td>0</td>\n",
       "      <td>1</td>\n",
       "    </tr>\n",
       "    <tr>\n",
       "      <th>8121</th>\n",
       "      <td>0</td>\n",
       "      <td>0</td>\n",
       "      <td>1</td>\n",
       "      <td>0</td>\n",
       "      <td>0</td>\n",
       "      <td>0</td>\n",
       "      <td>0</td>\n",
       "      <td>0</td>\n",
       "      <td>1</td>\n",
       "      <td>0</td>\n",
       "      <td>...</td>\n",
       "      <td>0</td>\n",
       "      <td>0</td>\n",
       "      <td>0</td>\n",
       "      <td>0</td>\n",
       "      <td>1</td>\n",
       "      <td>0</td>\n",
       "      <td>0</td>\n",
       "      <td>0</td>\n",
       "      <td>0</td>\n",
       "      <td>1</td>\n",
       "    </tr>\n",
       "    <tr>\n",
       "      <th>8122</th>\n",
       "      <td>0</td>\n",
       "      <td>0</td>\n",
       "      <td>0</td>\n",
       "      <td>1</td>\n",
       "      <td>0</td>\n",
       "      <td>0</td>\n",
       "      <td>0</td>\n",
       "      <td>0</td>\n",
       "      <td>0</td>\n",
       "      <td>1</td>\n",
       "      <td>...</td>\n",
       "      <td>1</td>\n",
       "      <td>0</td>\n",
       "      <td>0</td>\n",
       "      <td>0</td>\n",
       "      <td>1</td>\n",
       "      <td>0</td>\n",
       "      <td>0</td>\n",
       "      <td>0</td>\n",
       "      <td>0</td>\n",
       "      <td>0</td>\n",
       "    </tr>\n",
       "    <tr>\n",
       "      <th>8123</th>\n",
       "      <td>0</td>\n",
       "      <td>0</td>\n",
       "      <td>0</td>\n",
       "      <td>0</td>\n",
       "      <td>0</td>\n",
       "      <td>1</td>\n",
       "      <td>0</td>\n",
       "      <td>0</td>\n",
       "      <td>1</td>\n",
       "      <td>0</td>\n",
       "      <td>...</td>\n",
       "      <td>0</td>\n",
       "      <td>0</td>\n",
       "      <td>0</td>\n",
       "      <td>0</td>\n",
       "      <td>1</td>\n",
       "      <td>0</td>\n",
       "      <td>0</td>\n",
       "      <td>0</td>\n",
       "      <td>0</td>\n",
       "      <td>1</td>\n",
       "    </tr>\n",
       "  </tbody>\n",
       "</table>\n",
       "<p>8124 rows × 118 columns</p>\n",
       "</div>"
      ],
      "text/plain": [
       "      cap-shape_'b'  cap-shape_'c'  cap-shape_'f'  cap-shape_'k'  \\\n",
       "0                 0              0              0              0   \n",
       "1                 0              0              0              0   \n",
       "2                 1              0              0              0   \n",
       "3                 0              0              0              0   \n",
       "4                 0              0              0              0   \n",
       "...             ...            ...            ...            ...   \n",
       "8119              0              0              0              1   \n",
       "8120              0              0              0              0   \n",
       "8121              0              0              1              0   \n",
       "8122              0              0              0              1   \n",
       "8123              0              0              0              0   \n",
       "\n",
       "      cap-shape_'s'  cap-shape_'x'  cap-surface_'f'  cap-surface_'g'  \\\n",
       "0                 0              1                0                0   \n",
       "1                 0              1                0                0   \n",
       "2                 0              0                0                0   \n",
       "3                 0              1                0                0   \n",
       "4                 0              1                0                0   \n",
       "...             ...            ...              ...              ...   \n",
       "8119              0              0                0                0   \n",
       "8120              0              1                0                0   \n",
       "8121              0              0                0                0   \n",
       "8122              0              0                0                0   \n",
       "8123              0              1                0                0   \n",
       "\n",
       "      cap-surface_'s'  cap-surface_'y'  ...  population_'v'  population_'y'  \\\n",
       "0                   1                0  ...               0               0   \n",
       "1                   1                0  ...               0               0   \n",
       "2                   1                0  ...               0               0   \n",
       "3                   0                1  ...               0               0   \n",
       "4                   1                0  ...               0               0   \n",
       "...               ...              ...  ...             ...             ...   \n",
       "8119                1                0  ...               0               0   \n",
       "8120                1                0  ...               1               0   \n",
       "8121                1                0  ...               0               0   \n",
       "8122                0                1  ...               1               0   \n",
       "8123                1                0  ...               0               0   \n",
       "\n",
       "      habitat_'d'  habitat_'g'  habitat_'l'  habitat_'m'  habitat_'p'  \\\n",
       "0               0            0            0            0            0   \n",
       "1               0            1            0            0            0   \n",
       "2               0            0            0            1            0   \n",
       "3               0            0            0            0            0   \n",
       "4               0            1            0            0            0   \n",
       "...           ...          ...          ...          ...          ...   \n",
       "8119            0            0            1            0            0   \n",
       "8120            0            0            1            0            0   \n",
       "8121            0            0            1            0            0   \n",
       "8122            0            0            1            0            0   \n",
       "8123            0            0            1            0            0   \n",
       "\n",
       "      habitat_'u'  habitat_'w'  edible  \n",
       "0               1            0       0  \n",
       "1               0            0       1  \n",
       "2               0            0       1  \n",
       "3               1            0       0  \n",
       "4               0            0       1  \n",
       "...           ...          ...     ...  \n",
       "8119            0            0       1  \n",
       "8120            0            0       1  \n",
       "8121            0            0       1  \n",
       "8122            0            0       0  \n",
       "8123            0            0       1  \n",
       "\n",
       "[8124 rows x 118 columns]"
      ]
     },
     "execution_count": 214,
     "metadata": {},
     "output_type": "execute_result"
    }
   ],
   "source": [
    "dtf2 = pd.DataFrame()\n",
    "for c in dtf.columns:\n",
    "    dummy = pd.get_dummies(dtf[c], prefix = c, drop_first = False)\n",
    "    dtf2 = pd.concat([dtf2, dummy], axis = 1)\n",
    "\n",
    "dtf2 = dtf2.drop(\"class_'p'\", axis = 1)\n",
    "dtf2 = dtf2.rename({\"class_'e'\" : \"edible\"}, axis = 1)\n",
    "dtf2"
   ]
  },
  {
   "cell_type": "markdown",
   "id": "refined-cooling",
   "metadata": {},
   "source": [
    "Dzielimy dane na treningowe i testowe:"
   ]
  },
  {
   "cell_type": "code",
   "execution_count": 215,
   "id": "motivated-functionality",
   "metadata": {},
   "outputs": [
    {
     "name": "stdout",
     "output_type": "stream",
     "text": [
      "Train shape: (5443, 118)\n",
      "Test shape: (2681, 118)\n"
     ]
    }
   ],
   "source": [
    "from sklearn import model_selection, feature_selection, ensemble, metrics\n",
    "\n",
    "train_test_ratio = 0.33\n",
    "\n",
    "dtf_train, dtf_test = model_selection.train_test_split(dtf2, test_size = train_test_ratio)\n",
    "print(\"Train shape:\", dtf_train.shape)\n",
    "print(\"Test shape:\", dtf_test.shape)"
   ]
  },
  {
   "cell_type": "markdown",
   "id": "maritime-detail",
   "metadata": {},
   "source": [
    "### Wybór cech"
   ]
  },
  {
   "cell_type": "markdown",
   "id": "generic-least",
   "metadata": {},
   "source": [
    "Wybieramy najlepsze cechy przy użyciu losowych drzew:"
   ]
  },
  {
   "cell_type": "code",
   "execution_count": 216,
   "id": "extended-surge",
   "metadata": {},
   "outputs": [
    {
     "data": {
      "text/plain": [
       "[\"odor_'n'\",\n",
       " \"gill-size_'b'\",\n",
       " \"odor_'f'\",\n",
       " \"gill-color_'b'\",\n",
       " \"spore-print-color_'h'\",\n",
       " \"gill-size_'n'\",\n",
       " \"stalk-surface-below-ring_'k'\",\n",
       " \"stalk-surface-above-ring_'k'\",\n",
       " \"ring-type_'l'\",\n",
       " \"ring-type_'p'\",\n",
       " \"bruises%3F_'f'\",\n",
       " \"stalk-surface-above-ring_'s'\",\n",
       " \"population_'v'\",\n",
       " \"stalk-root_'b'\",\n",
       " \"stalk-shape_'t'\",\n",
       " \"odor_'p'\",\n",
       " \"gill-spacing_'w'\",\n",
       " \"bruises%3F_'t'\",\n",
       " \"spore-print-color_'w'\",\n",
       " \"stalk-root_'c'\",\n",
       " \"gill-spacing_'c'\",\n",
       " \"stalk-shape_'e'\",\n",
       " 'stalk-root_?',\n",
       " \"stalk-surface-below-ring_'s'\",\n",
       " \"spore-print-color_'r'\"]"
      ]
     },
     "execution_count": 216,
     "metadata": {},
     "output_type": "execute_result"
    }
   ],
   "source": [
    "import numpy as np\n",
    "\n",
    "importance_treshold = 0.01\n",
    "\n",
    "xs = dtf_train.drop(\"edible\", axis = 1).values\n",
    "y = dtf_train[\"edible\"].values\n",
    "features = dtf_train.drop(\"edible\", axis = 1).columns.tolist()\n",
    "\n",
    "model = ensemble.RandomForestClassifier(n_estimators = 100, criterion = \"entropy\", random_state = 0)\n",
    "model.fit(xs, y)\n",
    "importances = model.feature_importances_\n",
    "\n",
    "dtf_importances = pd.DataFrame({\"ważność\":importances, \"cecha\":features}).sort_values(\"ważność\", ascending = False)\n",
    "best_features = dtf_importances.query(\"ważność > \" + str(importance_treshold))[\"cecha\"].tolist()\n",
    "\n",
    "best_features"
   ]
  },
  {
   "cell_type": "markdown",
   "id": "documentary-metallic",
   "metadata": {},
   "source": [
    "Tworzymy nowe dataframe'y na podstawie wybranych cech:"
   ]
  },
  {
   "cell_type": "code",
   "execution_count": 217,
   "id": "successful-terrorism",
   "metadata": {},
   "outputs": [],
   "source": [
    "xs_train = dtf_train[best_features].values\n",
    "y_train = dtf_train[\"edible\"].values\n",
    "\n",
    "xs_test = dtf_test[best_features].values\n",
    "y_test = dtf_test[\"edible\"].values"
   ]
  },
  {
   "cell_type": "markdown",
   "id": "national-horizon",
   "metadata": {},
   "source": [
    "### Klasyfikacja"
   ]
  },
  {
   "cell_type": "markdown",
   "id": "smart-arnold",
   "metadata": {},
   "source": [
    "Do klasyfikacji będziemy używać metody <em>gradient boosting</em>. Wybieramy optymalne parametry:"
   ]
  },
  {
   "cell_type": "code",
   "execution_count": 218,
   "id": "apparent-publicity",
   "metadata": {},
   "outputs": [
    {
     "data": {
      "text/plain": [
       "GradientBoostingClassifier(learning_rate=0.008, max_depth=5, max_features=6,\n",
       "                           min_samples_leaf=2, min_samples_split=30,\n",
       "                           n_estimators=25, subsample=0.95)"
      ]
     },
     "execution_count": 218,
     "metadata": {},
     "output_type": "execute_result"
    }
   ],
   "source": [
    "model = ensemble.GradientBoostingClassifier()\n",
    "\n",
    "params = {'learning_rate' : [0.008, 0.005, 0.002, 0.001], 'n_estimators' : [5, 10, 15, 25], 'max_depth' : [2, 3, 4, 5], 'min_samples_split' : [2, 5, 10, 20, 30], 'min_samples_leaf' : [1, 2, 3, 5], 'max_features' : [3, 4, 5, 6], 'subsample' : [0.85, 0.9, 0.95, 1.0]}\n",
    "best_model = model_selection.RandomizedSearchCV(model, param_distributions = params, n_iter = 100, scoring = \"accuracy\").fit(xs_train, y_train)\n",
    "\n",
    "model = best_model.best_estimator_\n",
    "model"
   ]
  },
  {
   "cell_type": "markdown",
   "id": "southwest-generic",
   "metadata": {},
   "source": [
    "A następnie uczymy i testujemy klasyfikator:"
   ]
  },
  {
   "cell_type": "code",
   "execution_count": 219,
   "id": "defensive-chemistry",
   "metadata": {},
   "outputs": [
    {
     "name": "stdout",
     "output_type": "stream",
     "text": [
      "              precision    recall  f1-score   support\n",
      "\n",
      "           0       1.00      1.00      1.00      1297\n",
      "           1       1.00      1.00      1.00      1384\n",
      "\n",
      "    accuracy                           1.00      2681\n",
      "   macro avg       1.00      1.00      1.00      2681\n",
      "weighted avg       1.00      1.00      1.00      2681\n",
      "\n"
     ]
    },
    {
     "data": {
      "image/png": "[encoded data removed]",
      "text/plain": [
       "<Figure size 432x288 with 1 Axes>"
      ]
     },
     "metadata": {
      "needs_background": "light"
     },
     "output_type": "display_data"
    }
   ],
   "source": [
    "model.fit(xs_train, y_train)\n",
    "\n",
    "predicted = model.predict(xs_test)\n",
    "print(metrics.classification_report(y_test, predicted, target_names = [str(i) for i in np.unique(y_test)]))\n",
    "\n",
    "import seaborn as sns\n",
    "\n",
    "classes = np.unique(y_test)\n",
    "fig, ax = plt.subplots()\n",
    "cm = metrics.confusion_matrix(y_test, predicted)\n",
    "sns.heatmap(cm, annot = True, fmt = 'd', cmap = plt.cm.Reds, cbar = False)\n",
    "ax.set(xlabel = \"Czy jadalny wg klasyfikatora\", ylabel = \"Czy jadalny naprawdę\")\n",
    "ax.set_xticklabels(labels = [\"niejadalny\", \"jadalny\"], rotation = 0)\n",
    "ax.set_yticklabels(labels = [\"niejadalny\", \"jadalny\"], rotation = 0)\n",
    "plt.show()"
   ]
  },
  {
   "cell_type": "markdown",
   "id": "under-evolution",
   "metadata": {},
   "source": [
    "Z powyższych danych wynika, że nasz klasyfikator ma następujące własności:\n",
    "<ul>\n",
    "    <li><em>Accuracy</em>: 1.0</li>\n",
    "    <li><em>Recall</em>: 1.0</li>\n",
    "    <li><em>Precision</em>: (prawie) 1.0</li>\n",
    "</ul>\n",
    "\n",
    "Okazuje się zatem, że klasyfikator działa dobrze, choć niepokojące jest, że w 2 przypadkach niepoprawnie sklasyfikował grzyba trującego jako jadalnego, podczas gdy odwrotnego błędu nie popełnił ani razu."
   ]
  }
 ],
 "metadata": {
  "kernelspec": {
   "display_name": "Python 3",
   "language": "python",
   "name": "python3"
  },
  "language_info": {
   "codemirror_mode": {
    "name": "ipython",
    "version": 3
   },
   "file_extension": ".py",
   "mimetype": "text/x-python",
   "name": "python",
   "nbconvert_exporter": "python",
   "pygments_lexer": "ipython3",
   "version": "3.8.5"
  }
 },
 "nbformat": 4,
 "nbformat_minor": 5
}
